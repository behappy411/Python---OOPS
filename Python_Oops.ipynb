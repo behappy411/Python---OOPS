{
  "nbformat": 4,
  "nbformat_minor": 0,
  "metadata": {
    "colab": {
      "provenance": []
    },
    "kernelspec": {
      "name": "python3",
      "display_name": "Python 3"
    },
    "language_info": {
      "name": "python"
    }
  },
  "cells": [
    {
      "cell_type": "markdown",
      "source": [
        "1. What is Object-Oriented Programming (OOP)?\n",
        "   - Object-Oriented Programming (OOP) is a programming paradigm built around the concept of “objects,” which are instances of classes. It helps organize and structure code so it's reusable, modular, and easier to maintain—especially useful when systems grow in complexity.\n",
        "\n",
        "   Here are the four main principles:\n",
        "   * Encapsulation\n",
        "   * Abstraction\n",
        "   * Inheritance\n",
        "   * Polymorphism\n",
        "\n",
        "\n",
        "\n",
        "\n",
        "\n",
        "\n",
        "\n",
        "\n",
        "\n",
        "\n",
        "\n",
        "\n",
        "\n",
        "\n",
        "\n",
        "\n",
        "\n",
        "\n",
        "\n",
        "\n",
        "\n",
        "\n",
        "\n",
        "\n",
        "\n",
        "\n",
        "\n",
        "\n",
        "\n",
        "\n",
        "\n",
        "\n",
        "\n",
        "\n",
        "\n",
        "\n",
        "\n",
        "\n",
        "\n",
        "\n",
        "\n",
        "\n",
        "\n",
        "\n",
        "\n",
        "\n",
        "\n",
        "\n",
        "\n",
        "\n"
      ],
      "metadata": {
        "id": "-Nk1pmij4vNc"
      }
    },
    {
      "cell_type": "markdown",
      "source": [
        "2. What is a class in OOP?\n",
        "   - In Object-Oriented Programming (OOP), a class is like a blueprint or template for creating objects—which are the actual instances you work with in your code.\n",
        "\n",
        "     Think of a class as a design for a machine, and each object is a real machine built using that design. The class defines what data (called attributes or fields) the object will have, and what it can do (called methods or functions)."
      ],
      "metadata": {
        "id": "6dr69Y8aOpJe"
      }
    },
    {
      "cell_type": "markdown",
      "source": [
        "3. What is an object in OOP?\n",
        "   - In Object-Oriented Programming (OOP), an object is a concrete instance of a class—like a real-world item created from a design blueprint.\n",
        "\n",
        "     If a class defines the structure and behavior, the object is the thing that actually exists and operates."
      ],
      "metadata": {
        "id": "e5bUxNDROkON"
      }
    },
    {
      "cell_type": "markdown",
      "source": [
        "4. What is the difference between abstraction and encapsulation?\n",
        "   - Abstraction -\n",
        "     * Focuses on hiding complexity and showing only the essential features of  an object.\n",
        "     * Helps you interact with code through a simple interface, without worrying about internal details.\n",
        "     * You create abstract layers so users understand how to use an object without needing to know how it works.\n",
        "\n",
        "     Encapsulation -\n",
        "     * Bundles data (attributes) and methods into a single unit (an object).\n",
        "     * Restricts direct access to the internal state of an object using access controls like _private variables.\n",
        "     * Ensures that changes to the data happen through controlled interfaces (methods)."
      ],
      "metadata": {
        "id": "H1PMlYTNOfAb"
      }
    },
    {
      "cell_type": "markdown",
      "source": [
        "5. What are dunder methods in Python?\n",
        "   - In Python, dunder methods—short for double underscore—are special, built-in methods that allow your objects to interact with Python's built-in operations in a customized way. They're also called magic methods because of their double underscores at the beginning and end (like __init__, __str__, __len__, etc.).\n",
        "\n",
        "   Commonly Used Dunder Methods:\n",
        "   * __init__\tConstructor method (runs when object is created)\tInitializing attributes.\n",
        "   * __str__\tDefines string representation via str() or print()\tFriendly display of object.\n",
        "   * __len__\tReturns length via len() function\tCustom data length."
      ],
      "metadata": {
        "id": "RW7uYQfcObf3"
      }
    },
    {
      "cell_type": "markdown",
      "source": [
        "6. Explain the concept of inheritance in OOP.\n",
        "   - Inheritance is one of the foundational concepts of Object-Oriented Programming (OOP). It allows one class (called the child or subclass) to acquire the properties and behaviors (attributes and methods) of another class (called the parent or superclass). This supports code reuse, improves organization, and enables the creation of hierarchical relationships between classes.\n",
        "\n",
        "     Types of Inheritance in Python:\n",
        "     * Single -\tOne child inherits from one parent.\n",
        "     * Multiple -\tChild inherits from more than one parent.\n",
        "     * Multilevel -\tInheritance across multiple generations.\n",
        "     * Hierarchical -\tMultiple children inherit from a single parent.\n",
        "     * Hybrid -\tA combination of the above types.\n",
        "\n",
        "     Real-World Application: Imagine designing a class for a Sensor and subclasses like TemperatureSensor, CurrentSensor, and VoltageSensor—all can share base logic for data reading and validation, but override or extend functionality as needed. This makes your code modular and scalable for engineering simulations."
      ],
      "metadata": {
        "id": "NYQ2WsjiOXP0"
      }
    },
    {
      "cell_type": "markdown",
      "source": [
        "7. What is polymorphism in OOP?\n",
        "   - Polymorphism in Object-Oriented Programming (OOP) means “many forms”. It allows objects of different classes to be treated as if they were objects of a common superclass, while each can behave differently when the same method is called. This makes your code more flexible, extensible, and easier to manage.\n",
        "\n",
        "     Two Main Types of Polymorphism:\n",
        "     * Compile-Time (method overloading) -\tSame method name with different parameters (Not supported natively in Python).\n",
        "      e.g., area(length) & area(length, breadth).\n",
        "\n",
        "      * Run-Time (method overriding) -\tChild class overrides a method from parent class.\n",
        "      e.g.,\tSame method, different behavior.\n",
        "\n",
        "      Real-World Application: Imagine designing a simulation where different types of sensors (voltage, current, temperature) all inherit from a base Sensor class. Each might implement a .read_data() method—but how it collects data depends on the sensor type."
      ],
      "metadata": {
        "id": "SsIYWknnOTOu"
      }
    },
    {
      "cell_type": "markdown",
      "source": [
        "8. How is encapsulation achieved in Python?\n",
        "   - Encapsulation in Python is achieved by bundling data (attributes) and the methods that operate on that data into a single unit—the class—and by restricting direct access to some components. This promotes safety, maintainability, and abstraction.\n",
        "\n",
        "     How Python Enforces Encapsulation?\n",
        "     - Python doesn't enforce strict access control like some other languages (e.g., Java), but it provides naming conventions to indicate the intended access level:      \n",
        "\n",
        "      * public_var - Public\tand Accessible from anywhere.\n",
        "      * _protected_var - Protected (convention) and Internal use only.\n",
        "      *__private_var - Private (name mangling) and Harder to access from outside."
      ],
      "metadata": {
        "id": "TfVBWqp0OPKQ"
      }
    },
    {
      "cell_type": "markdown",
      "source": [
        "9. What is a constructor in Python?\n",
        "   - A constructor in Python is a special method used to initialize newly created objects from a class. Its job is to set up the object's initial state—usually by assigning values to instance variables.\n",
        "   \n",
        "     In Python, this constructor is named __init__.\n",
        "\n",
        "     Why Is It Useful?\n",
        "     * Ensure every object starts with valid, well-defined data.\n",
        "     * Eliminate repetitive setup code.\n",
        "     * Prepare your objects to immediately perform work or simulate behavior."
      ],
      "metadata": {
        "id": "SeDMiq_jOKHQ"
      }
    },
    {
      "cell_type": "markdown",
      "source": [
        "10. What are class and static methods in Python?\n",
        "    - In Python, class methods and static methods are two special kinds of methods that belong to a class rather than a specific instance. They help you manage behaviors that don't always need individual object data.\n",
        "\n",
        "      class method:\n",
        "      * Is defined with the @classmethod decorator.\n",
        "      * Takes cls (the class itself) as the first parameter, not self.\n",
        "      * Can access and modify class-level data, not instance-level.\n",
        "\n",
        "      static method:\n",
        "      * Is defined with the @staticmethod decorator.\n",
        "      * Doesn't take self or cls.\n",
        "      * Can't access instance or class data directly—it's like a regular function bundled inside the class for organizational purposes."
      ],
      "metadata": {
        "id": "_gAOIwp6OF9X"
      }
    },
    {
      "cell_type": "markdown",
      "source": [
        "11. What is method overloading in Python?\n",
        "    - Method Overloading refers to the ability to define multiple methods with the same name but different parameter lists. While this is common in languages like Java or C++, Python doesn't support traditional method overloading in the same way.\n",
        "\n",
        "     Instead, Python allows default arguments and variable-length arguments, which serve a similar purpose.\n",
        "\n",
        "                 class Calculator:\n",
        "                       def add(self, a, b=0, c=0):\n",
        "                           return a + b + c\n",
        "\n",
        "                calc = Calculator()\n",
        "                print(calc.add(5))        # Output: 5\n",
        "                print(calc.add(5, 3))     # Output: 8\n",
        "                print(calc.add(5, 3, 2))  # Output: 10\n",
        "       \n",
        "       This feels like overloading, but it's actually a single method using default values."
      ],
      "metadata": {
        "id": "p65WSZmjOCJz"
      }
    },
    {
      "cell_type": "markdown",
      "source": [
        "12. What is method overriding in OOP?\n",
        "    - Method overriding occurs when a subclass (child class) provides its own implementation of a method that is already defined in its superclass (parent class). This allows the subclass to customize or completely change the behavior of that method.\n",
        "\n",
        "     Why Is It Useful?\n",
        "     * Promotes code reuse and flexibility.\n",
        "     * Supports dynamic behavior (especially when objects are treated polymorphically).\n",
        "     * Essential for building customizable and extensible systems.\n",
        "\n",
        "     Example:\n",
        "                  class Animal:\n",
        "                        def speak(self):\n",
        "                            return \"Some generic sound\"\n",
        "\n",
        "                  class Dog(Animal):\n",
        "                        def speak(self):\n",
        "                            return \"Woof!\"\n",
        "\n",
        "                  pet = Dog()\n",
        "                  print(pet.speak())  # Output: Woof!"
      ],
      "metadata": {
        "id": "KxgbEtadN-r4"
      }
    },
    {
      "cell_type": "markdown",
      "source": [
        "13. What is a property decorator in Python?\n",
        "    - The @property decorator in Python is a super handy tool that allows you to define methods that act like attributes—giving you the power and flexibility of functions, but with the clean syntax of simple variable access.\n",
        "\n",
        "     In a class it can be accessed like an attribute, without needing parentheses.\n",
        "\n",
        "     It's commonly used to:\n",
        "     * Control access to private attributes.\n",
        "     * Add computed properties.\n",
        "     * Keep your code clean and intuitive.\n",
        "\n",
        "     Example:       \n",
        "                  class Circle:\n",
        "                       def __init__(self, radius):\n",
        "                           self._radius = radius\n",
        "\n",
        "                       @property\n",
        "                       def area(self):\n",
        "                          return 3.1416 * (self._radius ** 2)\n",
        "\n",
        "                  c = Circle(5)\n",
        "                  print(c.area)  # No parentheses! Outputs: 78.54"
      ],
      "metadata": {
        "id": "cCOLUuoKN6CG"
      }
    },
    {
      "cell_type": "markdown",
      "source": [
        "14. Why is polymorphism important in OOP?\n",
        "    - Polymorphism is one of the four core pillars of Object-Oriented Programming (OOP)—alongside encapsulation, inheritance, and abstraction—and it's what makes OOP truly flexible and powerful.\n",
        "\n",
        "      Polymorphism means “many forms.” In OOP, it allows objects of different classes to be treated as objects of a common superclass, especially when they share the same interface or base class methods.\n",
        "\n",
        "      If call the same method on different objects, and each object responds in its own unique way.\n",
        "\n",
        "      Why Is It Important?\n",
        "      * Simplifies Code\n",
        "      * Enhances Flexibility\n",
        "      * Boosts Extensibility\n",
        "      * Enables Runtime Decision Making"
      ],
      "metadata": {
        "id": "x815jSN4N0V0"
      }
    },
    {
      "cell_type": "markdown",
      "source": [
        "15. What is an abstract class in Python?\n",
        "    - An abstract class is a class that cannot be instantiated on its own. It's meant to be a blueprint for other classes. It ensure that subclasses implement certain methods, enforcing a consistent interface.\n",
        "\n",
        "     It may contain:\n",
        "     * Abstract methods: Methods declared but not implemented.\n",
        "     * Concrete methods: Regular methods with implementation.\n",
        "\n",
        "     Why Use Abstract Classes?\n",
        "     * Define common structure: Set expectations for subclasses.\n",
        "     * Encourage consistency: All child classes must implement required methods.\n",
        "     * Support polymorphism: You can write code that works with any subclass without knowing the details."
      ],
      "metadata": {
        "id": "NnXSCTKhNu8i"
      }
    },
    {
      "cell_type": "markdown",
      "source": [
        "16. What are the advantages of OOP?\n",
        "    - Object-Oriented Programming (OOP) encourages flexibility, reuse, and maintainability.\n",
        "    \n",
        "     OOPs have following advantages:\n",
        "     * Modularity: Code is organized into classes—self-contained blueprints for objects and each class handles its own data and behavior, reducing interdependence. Easy to divide work across teams or maintain pieces independently.\n",
        "     * Reusability: Inheritance, it can build on existing classes without rewriting everything. functionality lives in a base class and can be extended or overridden in subclasses.\n",
        "     * Encapsulation: Protects internal object state by exposing only what's necessary and reduces bugs by keeping data safe from unintended interference. Use of getters and setters (or @property in Python) to control access.\n",
        "     * Polymorphism: Allows to use a single interface to represent different underlying types (like Animal.speak() for dogs, cats, or parrots). Code becomes more generalized, extensible, and future-proof.\n",
        "     * Ease of Maintenance: OOP systems are easier to update because related behavior and data are bundled together.\n",
        "     * Scalability: OOPs scales well with larger codebases. Real-world problems can be modeled more naturally by mimicking real-world objects and relationships."
      ],
      "metadata": {
        "id": "dtcBQ7hzNq7t"
      }
    },
    {
      "cell_type": "markdown",
      "source": [
        "17. What is the difference between a class variable and an instance variable?\n",
        "    - Instance Variable:\n",
        "      * Defined in the constructor (__init__) using self.\n",
        "      * Belongs to the object (i.e. each instance has its own copy).\n",
        "      * Used to store data unique to each object.\n",
        "      * Declared Inside __init__ or method.\n",
        "      * Accessed via obj.var\n",
        "      * Scope\t- Unique per instance\n",
        "      * Use case - Object-specific data\n",
        "\n",
        "      Example:\n",
        "                  class Dog:\n",
        "                       def __init__(self, name):\n",
        "                          self.name = name  # instance variable\n",
        "                  \n",
        "                  a = Dog(\"Buddy\")\n",
        "                  b = Dog(\"Charlie\")\n",
        "                  print(a.name)  # Buddy\n",
        "                  print(b.name)  # Charlie\n",
        "\n",
        "      Class Variable:\n",
        "      * Declared within the class definition, but outside any methods.\n",
        "      * Shared across all instances of the class.\n",
        "      * Great for constants or tracking class-wide info.\n",
        "      * Declared in\tClass body.\n",
        "      * Accessed via\tClassName.var or obj.var\n",
        "      * Scope -\tShared across all instances\n",
        "      * Use case - Constants, shared state\n",
        "\n",
        "      Example:\n",
        "                  class Dog:\n",
        "                       species = \"Canis familiaris\"  # class variable\n",
        "\n",
        "                       def __init__(self, name):\n",
        "                          self.name = name  # instance variable\n",
        "                  \n",
        "                  a = Dog(\"Buddy\")\n",
        "                  b = Dog(\"Charlie\")\n",
        "                  print(a.species)  # Canis familiaris\n",
        "                  print(b.species)  # Canis familiaris"
      ],
      "metadata": {
        "id": "M3_YSjf_NkjS"
      }
    },
    {
      "cell_type": "markdown",
      "source": [
        "18. What is multiple inheritance in Python?\n",
        "    - Multiple inheritance means a class can inherit from more than one parent class. This allows it to combine attributes and methods from multiple sources.\n",
        "\n",
        "     Why Use It?\n",
        "     * Combine features from unrelated classes (like Flyable and Swimmable).\n",
        "     * Promote modular and reusable code.\n",
        "     * Ideal for mixins—small classes that add specific functionality.\n",
        "\n",
        "     Example:\n",
        "                 class A:\n",
        "                      def greet(self):\n",
        "                         return \"Hello from A\"\n",
        "\n",
        "                 class B:\n",
        "                      def greet(self):\n",
        "                         return \"Hello from B\"\n",
        "\n",
        "                 class C(A, B):\n",
        "                      pass\n",
        "\n",
        "                 obj = C()\n",
        "                 print(obj.greet())  # Output: Hello from A"
      ],
      "metadata": {
        "id": "NbvuXbhrNbyn"
      }
    },
    {
      "cell_type": "markdown",
      "source": [
        "19. Explain the purpose of '__str__' and '__repr__' methods in Python.\n",
        "    - __str__: The User-Friendly String\n",
        "      * Used when you call str(obj) or use print(obj)\n",
        "      * Should return a readable, nicely formatted description of the object\n",
        "      * It's meant for end users, not developers\n",
        "      * Purpose -\tUser-friendly\n",
        "      * Use case - print(obj) or str(obj)\n",
        "      * Goal - Readability\n",
        "      * Fallback - If __str__ missing, Python uses __repr__\n",
        "\n",
        "      Example:\n",
        "                   class Book:\n",
        "                        def __init__(self, title):\n",
        "                           self.title = title\n",
        "\n",
        "                        def __str__(self):\n",
        "                           return f\"Book: {self.title}\"\n",
        "\n",
        "                   b = Book(\"1984\")\n",
        "                   print(b)  # Output: Book: 1984\n",
        "\n",
        "      __repr__: The Developer-Friendly String\n",
        "      * Used when you call repr(obj) or just type the object name in the interpreter\n",
        "      * Should return a valid Python expression, if possible, that can recreate the object\n",
        "      * It's meant for developers/debugging\n",
        "      * Purpose\t- Developer/debug-focused\n",
        "      * Use case - repr(obj) or in interpreter\n",
        "      * Goal -\tAccuracy/unambiguous info\n",
        "      * Fallback - If missing, uses default like <Book object at 0x...>\n",
        "\n",
        "      Example:  \n",
        "                   class Book:\n",
        "                       def __init__(self, title):\n",
        "                          self.title = title\n",
        "\n",
        "                       def __repr__(self):\n",
        "                          return f\"Book('{self.title}')\"\n",
        "\n",
        "                   b = Book(\"1984\")\n",
        "                   print(repr(b))  # Output: Book('1984')\n",
        "       \n",
        "      Implement both methods can together to make your objects flexible for both casual use and in-depth debugging"
      ],
      "metadata": {
        "id": "7q9tbE5cNVfP"
      }
    },
    {
      "cell_type": "markdown",
      "source": [
        "20. What is the significance of the 'super()' function in Python?\n",
        "    - The super() function in Python is like a direct line to a class's parent (or superclass)—it lets access methods and properties of a parent class without explicitly naming it. This keeps code clean, elegant, and easier to maintain, especially in complex inheritance hierarchies.\n",
        "\n",
        "     Why Use super()?\n",
        "     * Avoid Hardcoding Parent Class Names: Promotes flexibility and reduces errors when your class hierarchy changes.\n",
        "     * Enable Cooperative Multiple Inheritance: Especially useful with Python's Method Resolution Order (MRO)—it ensures that all parent classes are properly initialized and their methods are called in the right order.\n",
        "     * DRY Principle: Don't Repeat Yourself - Reuse code in parent classes instead of copying logic.\n",
        "\n",
        "     Example:\n",
        "                  class Animal:\n",
        "                       def __init__(self, name):\n",
        "                          self.name = name\n",
        "\n",
        "                  class Dog(Animal):\n",
        "                       def __init__(self, name, breed):\n",
        "                          super().__init__(name)  # Call to Animal's constructor\n",
        "                          self.breed = breed"
      ],
      "metadata": {
        "id": "m2fVBsgENIyL"
      }
    },
    {
      "cell_type": "markdown",
      "source": [
        "21. What is the significance of the __del__ method in Python?\n",
        "    - The __del__ method in Python is a special method known as a destructor. It gets called automatically when an object is about to be destroyed—that is, when there are no more references to it.\n",
        "\n",
        "     Purpose of __del__:\n",
        "     * Close open files or database connections\n",
        "     * Release system resources (e.g., sockets, memory locks)\n",
        "     * Log or audit when an object is deleted\n",
        "\n",
        "     When Should You Use It?\n",
        "     * Use __del__ sparingly and only when absolutely need to manage cleanup that can't be done better with a context manager or try/finally\n",
        "\n",
        "     Example:\n",
        "                 class FileHandler:\n",
        "                      def __init__(self, filename):\n",
        "                         self.file = open(filename, 'w')\n",
        "\n",
        "                      def __del__(self):\n",
        "                         print(\"Closing file...\")\n",
        "                         self.file.close()\n",
        "\n",
        "                 handler = FileHandler(\"example.txt\")\n",
        "                 del handler  # Output: Closing file..."
      ],
      "metadata": {
        "id": "44QM0tbvMryP"
      }
    },
    {
      "cell_type": "markdown",
      "source": [
        "22. What is the difference between @staticmethod and @classmethod in Python?\n",
        "    - Both @staticmethod and @classmethod are decorators in Python used to define special kinds of methods inside classes, but they serve distinct purposes.\n",
        "\n",
        "     @staticmethod: Behaves Like a Regular Function\n",
        "     * Doesn't access instance (self) or class (cls)\n",
        "     * Lives inside a class for organizational or logical grouping\n",
        "     * Can be called on the class or an instance\n",
        "     * First Argument -\tNone (like a normal function)\n",
        "     * Not access to Class\n",
        "     * Use Case -\tUtility functions related to the class\n",
        "     * Called On - Class or instance\n",
        "\n",
        "     Example:\n",
        "                  class MathTools:\n",
        "                       @staticmethod\n",
        "                       def add(a, b):\n",
        "                          return a + b\n",
        "\n",
        "                  print(MathTools.add(3, 4))  # Output: 7\n",
        "\n",
        "     @classmethod: Aware of the Class\n",
        "     * First parameter is cls, which refers to the class\n",
        "     * Can be used to access or modify class-level data\n",
        "     * Often used for alternative constructors or class-wide operations\n",
        "     * First Argument -\tcls (refers to the class itself)\n",
        "     * Access to class\n",
        "     * Use Case\t-\tFactory methods, class-wide operations\n",
        "     * Called On - Class or instance\n",
        "\n",
        "     Example:    \n",
        "                   class Book:\n",
        "                        book_count = 0\n",
        "\n",
        "                        def __init__(self, title):\n",
        "                           self.title = title\n",
        "                           Book.book_count += 1\n",
        "\n",
        "                        @classmethod\n",
        "                        def total_books(cls):\n",
        "                           return cls.book_count\n",
        "\n",
        "                   print(Book.total_books())  # Output: 0 (initially)\n",
        "                   Book(\"1984\")\n",
        "                   Book(\"Brave New World\")\n",
        "                   print(Book.total_books())  # Output: 2"
      ],
      "metadata": {
        "id": "KDg-pnFwMcKs"
      }
    },
    {
      "cell_type": "markdown",
      "source": [
        "23. How does polymorphism work in Python with inheritance?\n",
        "    - Polymorphism and inheritance are like best friends in Object-Oriented Programming—and Python puts them to great use.\n",
        "\n",
        "     In Python, polymorphism allows objects of different subclasses to be treated as objects of their parent class, while still exhibiting their own specific behavior. This is possible because of inheritance—subclasses inherit methods from a base class and can override them to provide customized behavior.\n",
        "\n",
        "     Even looping over a list of Shape objects, Python dynamically calls the right area() method based on the actual object type (Circle or Square). That's runtime polymorphism. Example:   \n",
        "                    \n",
        "                    class Shape:\n",
        "                         def area(self):\n",
        "                         raise NotImplementedError(\"Subclasses must implement this method\")\n",
        "\n",
        "                    class Circle(Shape):\n",
        "                         def __init__(self, radius):\n",
        "                         self.radius = radius\n",
        "\n",
        "                         def area(self):\n",
        "                         return 3.1416 * self.radius ** 2\n",
        "\n",
        "                    class Square(Shape):\n",
        "                         def __init__(self, side):\n",
        "                         self.side = side\n",
        "\n",
        "                         def area(self):\n",
        "                         return self.side * self.side\n",
        "\n",
        "                    # Polymorphism in action:\n",
        "                    shapes = [Circle(5), Square(4)]\n",
        "\n",
        "                    for shape in shapes:\n",
        "                       print(shape.area())  # Calls the overridden method appropriate for each object"
      ],
      "metadata": {
        "id": "FcZRRiY6MRc4"
      }
    },
    {
      "cell_type": "markdown",
      "source": [
        "24. What is method chaining in Python OOP?\n",
        "    - Method chaining is a technique in Python (and other OOP languages) where multiple methods are called sequentially on the same object, all in a single line of code. It makes your code cleaner, more readable, and often more expressive.\n",
        "\n",
        "     Why Use Method Chaining?\n",
        "     * Fluent interface: Reads like a sentence\n",
        "     * Concise code: Reduces the need for temporary variables\n",
        "     * Encapsulation: Keeps internal state changes contained within the object\n",
        "     * It works great when modifying internal state or building configurations\n",
        "\n",
        "     Example:\n",
        "                 \n",
        "                 class Builder:\n",
        "                      def __init__(self):\n",
        "                         self.data = []\n",
        "\n",
        "                      def add(self, item):\n",
        "                         self.data.append(item)\n",
        "                         return self  # Return the object itself to allow chaining\n",
        "\n",
        "                     def multiply(self, times):\n",
        "                        self.data *= times\n",
        "                        return self\n",
        "\n",
        "                     def display(self):\n",
        "                        print(self.data)\n",
        "                        return self\n",
        "\n",
        "                 # Chained calls\n",
        "                 builder = Builder()\n",
        "                 builder.add(1).add(2).multiply(2).display() # output: [1,2,1,2]"
      ],
      "metadata": {
        "id": "uTi4lQSmMFT-"
      }
    },
    {
      "cell_type": "markdown",
      "source": [
        "25. What is the purpose of the __call__ method in Python?\n",
        "    - The __call__ method is a special (dunder) method that allows an instance of a class to be called as if it were a function.\n",
        "    \n",
        "     __call__ method in Python gives to objects a little superpower, it lets them behave like functions. With this method, it can “call” an object using parentheses - just like calling a function—and it'll execute custom logic that define.\n",
        "\n",
        "     What Purpose of __call__?\n",
        "     * Cleaner syntax for classes with a single “action”\n",
        "     * Makes it easier to swap out functions for stateful objects without changing how they're called\n",
        "     * Handy for function-like objects, such as Custom decorators, Function factories, and Functors (objects that behave like functions)\n",
        "\n",
        "     Example:\n",
        "                 class Greeter:\n",
        "                      def __call__(self, name):\n",
        "                         return f\"Hello, {name}!\"\n",
        "\n",
        "                 greet = Greeter()\n",
        "                 print(greet(\"Happy\"))  # Output: Hello, Happy!"
      ],
      "metadata": {
        "id": "0ML5PRWIL50d"
      }
    },
    {
      "cell_type": "code",
      "source": [
        "# 1. Create a parent class Animal with a method speak() that prints a generic message. Create a child class Dog that overrides the speak() method to print \"Bark!\".\n",
        "\n",
        "class Animal:\n",
        "     def speak(self):\n",
        "        print(\"Sound\")\n",
        "\n",
        "class Dog(Animal):\n",
        "     def speak(self):\n",
        "        print(\"Bark!\")\n",
        "\n",
        "# parent class object\n",
        "obj1 = Animal()\n",
        "obj1.speak()\n",
        "\n",
        "# child class object\n",
        "obj2 = Dog()\n",
        "obj2.speak()"
      ],
      "metadata": {
        "colab": {
          "base_uri": "https://localhost:8080/"
        },
        "id": "_CE9F2pLLjcK",
        "outputId": "262cd0de-31cb-4dd9-ed90-faef7bb4dd10"
      },
      "execution_count": null,
      "outputs": [
        {
          "output_type": "stream",
          "name": "stdout",
          "text": [
            "Sound\n",
            "Bark!\n"
          ]
        }
      ]
    },
    {
      "cell_type": "code",
      "source": [
        "# 2. Write a program to create an abstract class Shape with a method area(). Derive classes Circle and Rectangle from it and implement the area() method in both.\n",
        "\n",
        "from abc import ABC, abstractmethod\n",
        "\n",
        "class Shape(ABC):\n",
        "\n",
        "     @abstractmethod\n",
        "     def area(self):\n",
        "        pass\n",
        "\n",
        "class circle(Shape):\n",
        "     def area(self, radius):\n",
        "        print(3.14* radius**2)\n",
        "\n",
        "class rectangle(Shape):\n",
        "     def area(self, len, bre):\n",
        "        print(len*bre)\n",
        "\n",
        "cir = circle()\n",
        "cir.area(5)\n",
        "\n",
        "rect = rectangle()\n",
        "rect.area(4,5)"
      ],
      "metadata": {
        "id": "U3E8kODHRiNo",
        "colab": {
          "base_uri": "https://localhost:8080/"
        },
        "outputId": "29f9c9a9-202a-4b73-b922-ff32d4bf11b2"
      },
      "execution_count": 14,
      "outputs": [
        {
          "output_type": "stream",
          "name": "stdout",
          "text": [
            "78.5\n",
            "20\n"
          ]
        }
      ]
    },
    {
      "cell_type": "code",
      "source": [
        "# 3. Implement a multi-level inheritance scenario where a class Vehicle has an attribute type. Derive a class Car and further derive a class ElectricCar that adds a battery attribute.\n",
        "# a) simple way\n",
        "\n",
        "class Vehicle:\n",
        "     attr1 = \"class vechicle's attribute\"\n",
        "\n",
        "class Car(Vehicle):\n",
        "     attr2 = \"class car's attribute\"\n",
        "\n",
        "class ElectricCar(Car):\n",
        "     battery = \"class electricvehicle's attribute\"\n",
        "\n",
        "ev = ElectricCar()\n",
        "\n",
        "print(ev.attr1)\n",
        "print(ev.attr2)\n",
        "print(ev.battery)"
      ],
      "metadata": {
        "colab": {
          "base_uri": "https://localhost:8080/"
        },
        "id": "jSyoui5WPFgD",
        "outputId": "e038bdba-004f-45cf-9bdd-1af5d3338bd4"
      },
      "execution_count": null,
      "outputs": [
        {
          "output_type": "stream",
          "name": "stdout",
          "text": [
            "class vechicle's attribute\n",
            "class car's attribute\n",
            "class electricvehicle's attribute\n"
          ]
        }
      ]
    },
    {
      "cell_type": "code",
      "source": [
        "# 3. Implement a multi-level inheritance scenario where a class Vehicle has an attribute type. Derive a class Car and further derive a class ElectricCar that adds a battery attribute.\n",
        "# b) attribute taken as input\n",
        "\n",
        "class Vehicle:\n",
        "    def __init__(self, attri1):\n",
        "        self.vehi = attri1\n",
        "\n",
        "class Car(Vehicle):\n",
        "    def __init__(self, attri1, attri2):\n",
        "        super().__init__(attri1)\n",
        "        self._car = attri2\n",
        "\n",
        "class ElectricCar(Car):\n",
        "    def __init__(self, attri1, attri2, attri3):\n",
        "        super().__init__(attri1, attri2)\n",
        "        self.battery = attri3\n",
        "\n",
        "EV = ElectricCar(\"Electric\", \"Honda\", \"1000 kWh\")\n",
        "print(EV.vehi)\n",
        "print(EV._car)\n",
        "print(EV.battery)\n"
      ],
      "metadata": {
        "colab": {
          "base_uri": "https://localhost:8080/"
        },
        "id": "0QpnQ2oRSPNF",
        "outputId": "b0175000-2fea-4032-c858-4f2abf6ceee8"
      },
      "execution_count": 12,
      "outputs": [
        {
          "output_type": "stream",
          "name": "stdout",
          "text": [
            "Electric\n",
            "Honda\n",
            "1000 kWh\n"
          ]
        }
      ]
    },
    {
      "cell_type": "code",
      "source": [
        "# 4. Demonstrate polymorphism by creating a base class Bird with a method fly(). Create two derived classes Sparrow and Penguin that override the fly() method.\n",
        "\n",
        "class Bird:\n",
        "     def fly(self):\n",
        "        print('Birds fly in the sky')\n",
        "\n",
        "class Sparrow(Bird):\n",
        "     def fly(self):\n",
        "        print('Sparrow fly in the sky')\n",
        "\n",
        "class Penguin(Bird):\n",
        "     def fly(self):\n",
        "        print('Penguins doesn\\'t fly in the sky')\n",
        "\n",
        "def flying(bird):\n",
        "   bird.fly()\n",
        "\n",
        "bird1 = Bird()\n",
        "sparrow1 = Sparrow()\n",
        "penguin1 = Penguin()\n",
        "\n",
        "print('Methodoverride checking')\n",
        "bird1.fly()\n",
        "sparrow1.fly()\n",
        "penguin1.fly()\n",
        "\n",
        "print()\n",
        "print('Polymorphism checking')\n",
        "flying(bird1)\n",
        "flying(sparrow1)\n",
        "flying(penguin1)"
      ],
      "metadata": {
        "colab": {
          "base_uri": "https://localhost:8080/"
        },
        "id": "3H5WArN0Y1nj",
        "outputId": "51f259f2-b4d1-4e0c-e3c9-110a9ce82400"
      },
      "execution_count": 1,
      "outputs": [
        {
          "output_type": "stream",
          "name": "stdout",
          "text": [
            "Methodoverride checking\n",
            "Birds fly in the sky\n",
            "Sparrow fly in the sky\n",
            "Penguins doesn't fly in the sky\n",
            "\n",
            "Polymorphism checking\n",
            "Birds fly in the sky\n",
            "Sparrow fly in the sky\n",
            "Penguins doesn't fly in the sky\n"
          ]
        }
      ]
    },
    {
      "cell_type": "code",
      "source": [
        "# 5. Write a program to demonstrate encapsulation by creating a class BankAccount with private attributes balance and methods to deposit, withdraw, and check balance.\n",
        "\n",
        "class BankAccount:\n",
        "     def __init__(self, initial_balance=0):\n",
        "        self.__balance = initial_balance\n",
        "\n",
        "     def __deposit(self, amount):\n",
        "        if amount > 0:\n",
        "            self.__balance += amount\n",
        "            print(f\"Deposit: {amount}\")\n",
        "        else:\n",
        "            print(\"Invalid deposit\")\n",
        "\n",
        "     def __withdraw(self, amount):\n",
        "        if 0 < amount <= self.__balance:\n",
        "            self.__balance -= amount\n",
        "            print(f\"Withdraw: {amount}\")\n",
        "        else:\n",
        "            print(\"Insufficient funds\")\n",
        "\n",
        "     def __check_balance(self):\n",
        "        print(f\"Balance: {self.__balance}\")\n",
        "\n",
        "     def account_operation(self, action, amount=0):\n",
        "        if action == \"deposit\":\n",
        "            self.__deposit(amount)\n",
        "        elif action == \"withdraw\":\n",
        "            self.__withdraw(amount)\n",
        "        elif action == \"check\":\n",
        "            self.__check_balance()\n",
        "        else:\n",
        "            print(\"Invalid action.\")\n",
        "\n",
        "account = BankAccount(10000)\n",
        "account.account_operation(\"check\")\n",
        "account.account_operation(\"deposit\", 2000)\n",
        "account.account_operation(\"withdraw\", 5000)\n",
        "account.account_operation(\"check\")"
      ],
      "metadata": {
        "colab": {
          "base_uri": "https://localhost:8080/"
        },
        "id": "s9xHu5O7dS-2",
        "outputId": "229dbe7f-de39-4210-c4e8-18229780828a"
      },
      "execution_count": 19,
      "outputs": [
        {
          "output_type": "stream",
          "name": "stdout",
          "text": [
            "Balance: 10000\n",
            "Deposit: 2000\n",
            "Withdraw: 5000\n",
            "Balance: 7000\n"
          ]
        }
      ]
    },
    {
      "cell_type": "code",
      "source": [
        "# 6. Demonstrate runtime polymorphism using a method play() in a base class Instrument. Derive classes Guitar and Piano that implement their own version of play().\n",
        "\n",
        "class Instrument:\n",
        "    def play(self):\n",
        "        print(\"Playing an Instrument.\")\n",
        "\n",
        "class Guitar(Instrument):\n",
        "    def play(self):\n",
        "        print(\"Playing the Guitar.\")\n",
        "\n",
        "class Piano(Instrument):\n",
        "    def play(self):\n",
        "        print(\"Playing the Piano.\")\n",
        "\n",
        "def start_performance(instrument):\n",
        "    instrument.play()\n",
        "\n",
        "play1 = Guitar()\n",
        "play2 = Piano()\n",
        "\n",
        "start_performance(play1)\n",
        "start_performance(play2)"
      ],
      "metadata": {
        "colab": {
          "base_uri": "https://localhost:8080/"
        },
        "id": "eoo7iN2-JhE9",
        "outputId": "e1eca59f-70ae-4c45-cd2a-3213b5fbd279"
      },
      "execution_count": 20,
      "outputs": [
        {
          "output_type": "stream",
          "name": "stdout",
          "text": [
            "Playing the Guitar.\n",
            "Playing the Piano.\n"
          ]
        }
      ]
    },
    {
      "cell_type": "code",
      "source": [
        "# 7.Create a class MathOperations with a class method add_numbers() to add two numbers and a static method subtract_numbers() to subtract two numbers.\n",
        "\n",
        "class MathOperations:\n",
        "\n",
        "    @classmethod\n",
        "    def add_numbers(cls, a, b):\n",
        "        return a + b\n",
        "\n",
        "    @staticmethod\n",
        "    def subtract_numbers(a, b):\n",
        "        return a - b\n",
        "\n",
        "print(MathOperations.add_numbers(4, 3))\n",
        "print(MathOperations.subtract_numbers(5, 2))\n"
      ],
      "metadata": {
        "colab": {
          "base_uri": "https://localhost:8080/"
        },
        "id": "Sd2ysHtxLk8R",
        "outputId": "cb1cd620-f2fc-40cb-e53b-1298fc89d824"
      },
      "execution_count": 24,
      "outputs": [
        {
          "output_type": "stream",
          "name": "stdout",
          "text": [
            "7\n",
            "3\n"
          ]
        }
      ]
    },
    {
      "cell_type": "code",
      "source": [
        "# 8. Implement a class Person with a class method to count the total number of persons created.\n",
        "\n",
        "class Person:\n",
        "     total_persons = 0\n",
        "\n",
        "     def __init__(self, name):\n",
        "        self.name = name\n",
        "        Person.total_persons += 1\n",
        "\n",
        "     @classmethod\n",
        "     def total_persons(cls):\n",
        "        return cls.total_persons\n",
        "\n",
        "p1 = Person(\"Ajay\")\n",
        "p2 = Person(\"Bijay\")\n",
        "p3 = Person(\"Sanjay\")\n",
        "\n",
        "print(\"Total persons created:\", Person.total_persons())"
      ],
      "metadata": {
        "id": "PGOfuOQXMvym"
      },
      "execution_count": null,
      "outputs": []
    },
    {
      "cell_type": "code",
      "source": [
        "# 9. Write a class Fraction with attributes numerator and denominator. Override the str method to display the fraction as \"numerator/denominator\".\n",
        "\n",
        "class Fraction:\n",
        "    def __init__(self, numerator, denominator):\n",
        "        self.numerator = numerator\n",
        "        self.denominator = denominator\n",
        "\n",
        "    def __str__(self):\n",
        "        return f\"{self.numerator}/{self.denominator}\"\n",
        "\n",
        "\n",
        "fract = Fraction(1, 2)\n",
        "print(fract)\n"
      ],
      "metadata": {
        "colab": {
          "base_uri": "https://localhost:8080/"
        },
        "id": "9MKKRNApOUBJ",
        "outputId": "cedb026d-f665-4e94-e759-45723f61f12d"
      },
      "execution_count": 26,
      "outputs": [
        {
          "output_type": "stream",
          "name": "stdout",
          "text": [
            "1/2\n"
          ]
        }
      ]
    },
    {
      "cell_type": "code",
      "source": [
        "# 10. Demonstrate operator overloading by creating a class Vector and overriding the add method to add two vectors.\n",
        "\n",
        "class Vector:\n",
        "     def __init__(self, x, y):\n",
        "        self.x = x\n",
        "        self.y = y\n",
        "\n",
        "     def __add__(self, other):\n",
        "        return Vector(self.x + other.x, self.y + other.y)\n",
        "\n",
        "     def __str__(self):\n",
        "        return f\"({self.x}, {self.y})\"\n",
        "\n",
        "v1 = Vector(3, 4)\n",
        "v2 = Vector(1, 2)\n",
        "v3 = v1 + v2\n",
        "\n",
        "print(\"v1:\", v1)\n",
        "print(\"v2:\", v2)\n",
        "print(\"v1 + v2 =\", v3)\n"
      ],
      "metadata": {
        "colab": {
          "base_uri": "https://localhost:8080/"
        },
        "id": "-RcpXZ9RPE6H",
        "outputId": "69a8edc7-1586-4bcb-d35a-d2245a3f9e31"
      },
      "execution_count": 27,
      "outputs": [
        {
          "output_type": "stream",
          "name": "stdout",
          "text": [
            "v1: (3, 4)\n",
            "v2: (1, 2)\n",
            "v1 + v2 = (4, 6)\n"
          ]
        }
      ]
    },
    {
      "cell_type": "code",
      "source": [
        "# 11. Create a class Person with attributes name and age. Add a method greet() that prints \"Hello, my name is {name} and I am {age} years old.\"\n",
        "\n",
        "class Person:\n",
        "    def __init__(self, name, age):\n",
        "        self.name = name\n",
        "        self.age = age\n",
        "\n",
        "def greet(self):\n",
        "    print(f\"Hello, my name is {self.name} and I am {self.age} years old.\")\n",
        "\n",
        "Person.greet = greet\n",
        "\n",
        "person1 = Person(\"Happy\", 23)\n",
        "person1.greet()"
      ],
      "metadata": {
        "colab": {
          "base_uri": "https://localhost:8080/"
        },
        "id": "bG0pE-ZjQZTz",
        "outputId": "854d2d1b-35b6-4d27-fdee-321fd4e3b1a4"
      },
      "execution_count": 31,
      "outputs": [
        {
          "output_type": "stream",
          "name": "stdout",
          "text": [
            "Hello, my name is Happy and I am 23 years old.\n"
          ]
        }
      ]
    },
    {
      "cell_type": "code",
      "source": [
        "# 12. Implement a class Student with attributes name and grades. Create a method average_grade() to compute the average of the grades.\n",
        "\n",
        "class Student:\n",
        "    def __init__(self, name, grades):\n",
        "        self.name = name\n",
        "        self.grades = grades\n",
        "\n",
        "    def average_grade(self):\n",
        "        if self.grades:\n",
        "            return sum(self.grades) / len(self.grades)\n",
        "        else:\n",
        "            return 0\n",
        "\n",
        "s1 = Student(\"Happy\", [85, 90, 78, 92])\n",
        "print(f\"{s1.name}'s average grade is:\", s1.average_grade())"
      ],
      "metadata": {
        "colab": {
          "base_uri": "https://localhost:8080/"
        },
        "id": "7R3-uSrzVXsc",
        "outputId": "79c338ee-86df-41c4-9808-b48c13d8a0c7"
      },
      "execution_count": 32,
      "outputs": [
        {
          "output_type": "stream",
          "name": "stdout",
          "text": [
            "Happy's average grade is: 86.25\n"
          ]
        }
      ]
    },
    {
      "cell_type": "code",
      "source": [
        "#  13. Create a class Rectangle with methods set_dimensions() to set the dimensions and area() to calculate the area.\n",
        "\n",
        "class Rectangle:\n",
        "     def __init__(self):\n",
        "        self.len = 0\n",
        "        self.wid = 0\n",
        "\n",
        "     def set_dimens(self, len, wid):\n",
        "        self.len = len\n",
        "        self.wid = wid\n",
        "\n",
        "     def area(self):\n",
        "        return self.len*self.wid\n",
        "\n",
        "rect1 = Rectangle()\n",
        "rect1.set_dimens(7, 5)\n",
        "print(\"Area of rectangle:\", rect1.area())"
      ],
      "metadata": {
        "colab": {
          "base_uri": "https://localhost:8080/"
        },
        "id": "6aw9r1xsbGVH",
        "outputId": "e114228b-c894-418f-fb4f-e84031e42bdd"
      },
      "execution_count": 36,
      "outputs": [
        {
          "output_type": "stream",
          "name": "stdout",
          "text": [
            "Area of rectangle: 35\n"
          ]
        }
      ]
    },
    {
      "cell_type": "code",
      "source": [
        "# 14. Create a class Employee with a method calculate_salary() that computes the salary based on hours worked and hourly rate. Create a derived class Manager that adds a bonus to the salary.\n",
        "\n",
        "class Employee:\n",
        "    def __init__(self, name, hourly_rate):\n",
        "        self.name = name\n",
        "        self.hourly_rate = hourly_rate\n",
        "\n",
        "    def calculate_salary(self, hours_worked):\n",
        "        return self.hourly_rate * hours_worked\n",
        "\n",
        "class Manager(Employee):\n",
        "    def __init__(self, name, hourly_rate, bonus):\n",
        "        super().__init__(name, hourly_rate)\n",
        "        self.bonus = bonus\n",
        "\n",
        "    def calculate_salary(self, hours_worked):\n",
        "        base_salary = super().calculate_salary(hours_worked)\n",
        "        return base_salary + self.bonus\n",
        "\n",
        "print('Salary without bonus and not made by Manager')\n",
        "Employ1 = Employee(\"Ajay\", 1100)\n",
        "print(f\"{Employ1.name}'s salary: ₹{Employ1.calculate_salary(120)}\")\n",
        "\n",
        "print('Salary with bonus and made by Manager')\n",
        "Employ2 = Manager(\"Bijay\", 1200, 5000)\n",
        "print(f\"{Employ2.name}'s salary: ₹{Employ2.calculate_salary(120)}\")"
      ],
      "metadata": {
        "colab": {
          "base_uri": "https://localhost:8080/"
        },
        "id": "jlXsr7zshg_L",
        "outputId": "a4606685-423d-48c8-c3a3-c64627ffb470"
      },
      "execution_count": 47,
      "outputs": [
        {
          "output_type": "stream",
          "name": "stdout",
          "text": [
            "Salary without bonus and not made by Manager\n",
            "Ajay's salary: ₹132000\n",
            "Salary with bonus and made by Manager\n",
            "Bijay's salary: ₹149000\n"
          ]
        }
      ]
    },
    {
      "cell_type": "code",
      "source": [
        "# 15. Create a class Product with attributes name, price, and quantity. Implement a method total_price() that calculates the total price of the product.\n",
        "\n",
        "class Product:\n",
        "    def __init__(self, name, price, quantity):\n",
        "        self.name = name\n",
        "        self.price = price\n",
        "        self.quantity = quantity\n",
        "\n",
        "    def total_price(self):\n",
        "        return self.price * self.quantity\n",
        "\n",
        "prod1 = Product('Biscuit', 5, 50)\n",
        "print(f\"Total price of {prod1.name}: ₹{prod1.total_price()}\")"
      ],
      "metadata": {
        "colab": {
          "base_uri": "https://localhost:8080/"
        },
        "id": "v7TI4yoXQtBP",
        "outputId": "5ecd5d41-9144-4389-cce5-997cf8abfc51"
      },
      "execution_count": 1,
      "outputs": [
        {
          "output_type": "stream",
          "name": "stdout",
          "text": [
            "Total price of Biscuit: ₹250\n"
          ]
        }
      ]
    },
    {
      "cell_type": "code",
      "source": [
        "#  16. Create a class Animal with an abstract method sound(). Create two derived classes Cow and Sheep that implement the sound() method.\n",
        "\n",
        "from abc import ABC, abstractmethod\n",
        "\n",
        "class Animal(ABC):\n",
        "\n",
        "     @abstractmethod\n",
        "     def sound(self):\n",
        "        pass\n",
        "\n",
        "class Cow(Animal):\n",
        "     def sound(self):\n",
        "        print('Mooo!')\n",
        "\n",
        "class Sheep(Animal):\n",
        "     def sound(self):\n",
        "        print('Baaa!')\n",
        "\n",
        "cow1 = Cow()\n",
        "cow1.sound()\n",
        "\n",
        "print()\n",
        "\n",
        "sheep1 = Sheep()\n",
        "sheep1.sound()"
      ],
      "metadata": {
        "colab": {
          "base_uri": "https://localhost:8080/"
        },
        "id": "0f3endwORr4e",
        "outputId": "72a0019d-a7ab-4932-e4ab-4866c65916d5"
      },
      "execution_count": 3,
      "outputs": [
        {
          "output_type": "stream",
          "name": "stdout",
          "text": [
            "Cow is Moooing\n",
            "\n",
            "Sheep is Beeeing\n"
          ]
        }
      ]
    },
    {
      "cell_type": "code",
      "source": [
        "# 17. Create a class Book with attributes title, author, and year_published. Add a method get_book_info() that returns a formatted string with the book's details.\n",
        "\n",
        "class Book:\n",
        "    def __init__(self, title, author, year_published):\n",
        "        self.title = title\n",
        "        self.author = author\n",
        "        self.year_published = year_published\n",
        "\n",
        "def get_book_info(self):\n",
        "   return f\"Title: {self.title}\\nAuthor: {self.author}\\nYear Published: {self.year_published}\"\n",
        "\n",
        "Book.get_book_info = get_book_info\n",
        "\n",
        "book1 = Book(\"Harry Potter\", \"J. K. Rowling\", 2007)\n",
        "print(book1.get_book_info())\n",
        "\n",
        "print()\n",
        "\n",
        "book2 = Book(\"The Secret\", \"Rhonda Byrne\", 2006)\n",
        "print(book2.get_book_info())"
      ],
      "metadata": {
        "colab": {
          "base_uri": "https://localhost:8080/"
        },
        "id": "f7sPeOkmUJqX",
        "outputId": "0b2d05b0-a940-4e67-bbf0-9281b412d064"
      },
      "execution_count": 6,
      "outputs": [
        {
          "output_type": "stream",
          "name": "stdout",
          "text": [
            "Title: Harry Potter\n",
            "Author: J. K. Rowling\n",
            "Year Published: 2007\n",
            "\n",
            "Title: The Secret\n",
            "Author: Rhonda Byrne\n",
            "Year Published: 2006\n"
          ]
        }
      ]
    },
    {
      "cell_type": "code",
      "source": [
        "#  18. Create a class House with attributes address and price. Create a derived class Mansion that adds an attribute number_of_rooms.\n",
        "\n",
        "class House:\n",
        "     def __init__(self, address, price):\n",
        "        self.address = address\n",
        "        self.price = price\n",
        "\n",
        "class Mansion(House):\n",
        "     def __init__(self,address,price, no_of_rooms):\n",
        "         super().__init__(address, price)\n",
        "         self.no_of_rooms = no_of_rooms\n",
        "\n",
        "house1 = House(\"Delhi\", 40000000)\n",
        "print(f'Address:',house1.address)\n",
        "print(f'Price:',house1.price)\n",
        "\n",
        "print()\n",
        "\n",
        "villa = Mansion(\"Gurugram\", 5000000, 4)\n",
        "print(f'Address:',villa.address)\n",
        "print(f'Price:',villa.price)\n",
        "print(f'No. of Rooms:',villa.no_of_rooms)"
      ],
      "metadata": {
        "colab": {
          "base_uri": "https://localhost:8080/"
        },
        "id": "zPAnMghQWUQg",
        "outputId": "c5a91533-febc-47db-c7ff-83e457745c22"
      },
      "execution_count": 13,
      "outputs": [
        {
          "output_type": "stream",
          "name": "stdout",
          "text": [
            "Address: Delhi\n",
            "Price: 40000000\n",
            "\n",
            "Address: Gurugram\n",
            "Price: 5000000\n",
            "No. of Rooms: 4\n"
          ]
        }
      ]
    }
  ]
}